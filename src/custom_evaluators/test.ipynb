{
 "cells": [
  {
   "cell_type": "code",
   "execution_count": 5,
   "metadata": {},
   "outputs": [],
   "source": [
    "from dotenv import load_dotenv  \n",
    "load_dotenv()\n",
    "\n",
    "from promptflow.core._model_configuration import AzureOpenAIModelConfiguration\n",
    "from promptflow.client import load_flow\n",
    "import os\n",
    "\n",
    "model_config = {\n",
    "    \"api\": \"chat\",\n",
    "    \"configuration\": AzureOpenAIModelConfiguration(\n",
    "        api_key=os.environ[\"OPENAI_API_KEY\"],\n",
    "        api_version=os.environ[\"OPENAI_API_VERSION\"],\n",
    "        azure_endpoint=os.environ[\"OPENAI_API_BASE\"],\n",
    "        azure_deployment=\"gpt-35-turbo-1106\",\n",
    "    ),\n",
    "    \"parameters\": {\n",
    "        \"max_token\": 512\n",
    "    }\n",
    "}\n",
    "sql_similarity_brief = load_flow('sql_similarity_brief.prompty')"
   ]
  },
  {
   "cell_type": "code",
   "execution_count": 6,
   "metadata": {},
   "outputs": [],
   "source": [
    "from promptflow.client import load_flow\n",
    "\n",
    "sql_similarity = load_flow('sql_similarity.prompty')\n"
   ]
  },
  {
   "cell_type": "code",
   "execution_count": 7,
   "metadata": {},
   "outputs": [],
   "source": [
    "generated_sql = \"\"\"\n",
    "SELECT SUM(Number_of_Orders)\n",
    "FROM order_data\n",
    "WHERE Month = 5\n",
    "AND Year = 2024\n",
    "\"\"\"\n",
    "\n",
    "ground_truth_sql = \"\"\"\n",
    "SELECT SUM(Number_of_Orders)\n",
    "FROM order_data\n",
    "WHERE Year = 2024\n",
    "AND Month = 5\n",
    "GROUP BY Day\n",
    "\"\"\"\n"
   ]
  },
  {
   "cell_type": "code",
   "execution_count": 8,
   "metadata": {},
   "outputs": [
    {
     "data": {
      "text/plain": [
       "{'score': 2,\n",
       " 'explanation': 'The queries are similar in that they both aim to sum the number of orders from the order_data table for a specific month and year. However, the ground_truth_query includes a GROUP BY clause that groups the results by day, which the generated_query does not have. This means the ground_truth_query will return a sum for each day, while the generated_query will return a single sum for the entire month. This difference in cardinality and data structure results in a significant difference in the output of the queries.'}"
      ]
     },
     "execution_count": 8,
     "metadata": {},
     "output_type": "execute_result"
    }
   ],
   "source": [
    "sql_similarity(response=generated_sql, ground_truth=ground_truth_sql)"
   ]
  },
  {
   "cell_type": "code",
   "execution_count": 20,
   "metadata": {},
   "outputs": [
    {
     "data": {
      "text/plain": [
       "{'score': 2}"
      ]
     },
     "execution_count": 20,
     "metadata": {},
     "output_type": "execute_result"
    }
   ],
   "source": [
    "sql_similarity_brief(response=generated_sql, ground_truth=ground_truth_sql)"
   ]
  },
  {
   "cell_type": "code",
   "execution_count": null,
   "metadata": {},
   "outputs": [],
   "source": []
  }
 ],
 "metadata": {
  "kernelspec": {
   "display_name": "assistant-eval",
   "language": "python",
   "name": "python3"
  },
  "language_info": {
   "codemirror_mode": {
    "name": "ipython",
    "version": 3
   },
   "file_extension": ".py",
   "mimetype": "text/x-python",
   "name": "python",
   "nbconvert_exporter": "python",
   "pygments_lexer": "ipython3",
   "version": "3.11.0"
  }
 },
 "nbformat": 4,
 "nbformat_minor": 2
}
